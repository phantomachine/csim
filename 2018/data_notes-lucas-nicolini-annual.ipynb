{
 "cells": [
  {
   "cell_type": "markdown",
   "metadata": {},
   "source": [
    "# Data and Statistical Calibration (Indirect Inference) on Model\n",
    "\n",
    "### Timothy Kam and Junsang Lee\n",
    "\n",
    "GitHub project site: https://github.com/phantomachine/csim"
   ]
  },
  {
   "cell_type": "code",
   "execution_count": 1,
   "metadata": {},
   "outputs": [],
   "source": [
    "import requests, zipfile, io\n",
    "from matplotlib import pyplot as plt\n",
    "import pandas as pd\n",
    "import seaborn as sn\n",
    "import numpy as np\n",
    "from pandas import ExcelWriter\n",
    "from pandas import ExcelFile\n",
    "import os\n",
    "from fredapi import Fred\n",
    "from scipy import interpolate\n",
    "# from seasonal import fit_seasons, adjust_seasons\n",
    "\n",
    "%matplotlib inline"
   ]
  },
  {
   "cell_type": "markdown",
   "metadata": {},
   "source": [
    "# Purpose\n",
    "\n",
    "This notebook documents the steps we used to construct:\n",
    "\n",
    "1. External calibration of model's annual discount factor (model is quarterly so model's solution is based on quarterly version) using ex-post Fisher relation on observed data:\n",
    "    \n",
    "    * T-Bill Rate (3-month) as proxy for a short rate (annual), $i$\n",
    "    \n",
    "    * GDP Deflator inflation rate as proxy for inflation (annual), $\\pi$\n",
    "    \n",
    "2. Data mean of $M1/GDP$\n",
    "\n",
    "    * Lucas and Nicolini's (JME, 2015) ``New M1`` series is used.\n",
    "    \n",
    "3. Spline-fitted relation between $M1/GDP$ and $i$ to obtain a point estimate of the elasticity of $M1/GDP$ w.r.t. $i$\n",
    "\n",
    "    * Note: the spline-fitted model on the data is just an arbitrary auxiliary statistical model for indirect inference on our theory-implied elasticity.\n",
    "   "
   ]
  },
  {
   "cell_type": "markdown",
   "metadata": {},
   "source": [
    "# Annual Data\n"
   ]
  },
  {
   "cell_type": "markdown",
   "metadata": {},
   "source": [
    "We get our data series, obtained from Minneapolis Fed Working Paper 718, *On the Stability of Money Demand*, by Robert E Lucas, Jr. and Juan Pablo Nicolini, at:\n",
    "\n",
    "https://www.minneapolisfed.org/research/working-papers/on-the-stability-of-money-demand\n",
    "\n",
    "**Note**: this paper was published in the [*Journal of Monetary Economics* (Vol. 73, July 2015, pp. 48-65)](http://dx.doi.org/10.1016/j.jmoneco.2015.03.005) "
   ]
  },
  {
   "cell_type": "code",
   "execution_count": 2,
   "metadata": {},
   "outputs": [],
   "source": [
    "# Note: \n",
    "# (1) The ! command below, escapes you from the current Python interface to the server Terminal prompt\n",
    "# (2) pip install will install a new python package/library that may not be pre-existing already\n",
    "# !pip install fredapi # uncomment and run if FRED API not installed yet\n",
    "\n",
    "# Instantiate Fred class as \"fred\", use your own api_key!\n",
    "fred = Fred(api_key='8f21f53dd9e218b356ed31f6aa39b26d')"
   ]
  },
  {
   "cell_type": "code",
   "execution_count": 3,
   "metadata": {},
   "outputs": [],
   "source": [
    "# URL to data in ZIP format\n",
    "url = \"http://minneapolisfed.contentdm.oclc.org/utils/getdownloaditem/collection/p16030coll7/id/91/filename/92.zip\"\n",
    "zipf = requests.get(url)\n",
    "file = zipfile.ZipFile(io.BytesIO(zipf.content))\n",
    "file.extractall()"
   ]
  },
  {
   "cell_type": "code",
   "execution_count": 4,
   "metadata": {},
   "outputs": [
    {
     "name": "stdout",
     "output_type": "stream",
     "text": [
      "total 7384\r\n",
      "drwxr-xr-x 5 obiwan obiwan    4096 Oct 16 15:49  .\r\n",
      "drwxrwxr-x 5 obiwan obiwan    4096 Oct  6 16:55  ..\r\n",
      "drwxr-xr-x 4 obiwan obiwan    4096 Jul 18 09:03  AdditionalFiles\r\n",
      "-rw-rw-r-- 1 obiwan obiwan  465156 Jul 25 11:39  data_notes-lucas-nicolini-annual.html\r\n",
      "-rw-rw-r-- 1 obiwan obiwan  200526 Oct 16 15:49  data_notes-lucas-nicolini-annual.ipynb\r\n",
      "-rw-rw-r-- 1 obiwan obiwan  382751 Jul 19 11:07  data_notes-lucas-nicolini.html\r\n",
      "-rw-rw-r-- 1 obiwan obiwan  154424 Oct 15 15:40  data_notes-lucas-nicolini-quarterly.ipynb\r\n",
      "drwxr-xr-x 2 obiwan obiwan    4096 Jul 19 11:38  .ipynb_checkpoints\r\n",
      "-rw-r--r-- 1 obiwan obiwan      78 Jul 19 11:40  .~lock.MoneyData_Lucas-Nicolini-Wang-Wright-Liu-version.xlsx#\r\n",
      "-rw------- 1 obiwan obiwan  607291 Jul 17 09:10 'Long-run money demand redux _ VOX, CEPR Policy Portal.pdf'\r\n",
      "-rw-rw-r-- 1 obiwan obiwan  590222 Jul 17 09:33  Lucas-Nicolini-Money-Demand-JME2015.pdf\r\n",
      "-rw-rw-r-- 1 obiwan obiwan   17370 Jul 19 11:39  MoneyData_Lucas-Nicolini-Wang-Wright-Liu-version.xlsx\r\n",
      "drwxr-xr-x 2 obiwan obiwan    4096 Jul 18 09:53  papers\r\n",
      "-rw-rw-r-- 1 obiwan obiwan   32768 Jul 19 16:24  USAGDPDEFAISMEI.xls\r\n",
      "-rw-rw-r-- 1 obiwan obiwan 1455993 Jul 24 14:58  wp737.pdf\r\n",
      "-rw-rw-r-- 1 obiwan obiwan 3548218 Jul 24 15:03  wp738.pdf\r\n"
     ]
    }
   ],
   "source": [
    "# View directory\n",
    "!ls -la"
   ]
  },
  {
   "cell_type": "code",
   "execution_count": 5,
   "metadata": {},
   "outputs": [
    {
     "name": "stdout",
     "output_type": "stream",
     "text": [
      "['.~lock.data_consolidated.xlsx#', 'AppendixMMDA.pdf', 'Quarterly_mmda.xlsx', 'data_consolidated.xlsx']\n"
     ]
    }
   ],
   "source": [
    "# Probe inside AdditionalFiles (from Lucas and Nicolini)\n",
    "f = os.listdir(\"AdditionalFiles/data/\")\n",
    "print(f)"
   ]
  },
  {
   "cell_type": "code",
   "execution_count": 6,
   "metadata": {},
   "outputs": [],
   "source": [
    "# Note: \n",
    "# (1) The ! command below, escapes you from the current Python interface to the server Terminal prompt\n",
    "# (2) pip install will install a new python package/library that may not be pre-existing already\n",
    "# !pip install fredapi # uncomment and run if FRED API not installed yet\n",
    "\n",
    "# Instantiate Fred class as \"fred\", use your own api_key!\n",
    "fred = Fred(api_key='8f21f53dd9e218b356ed31f6aa39b26d')"
   ]
  },
  {
   "cell_type": "code",
   "execution_count": 7,
   "metadata": {},
   "outputs": [],
   "source": [
    "# Create empty dictionary\n",
    "df = {}"
   ]
  },
  {
   "cell_type": "code",
   "execution_count": 8,
   "metadata": {
    "scrolled": true
   },
   "outputs": [],
   "source": [
    "# Import Lucas-Nicolini (2015, JME) dataset (Annual version)\n",
    "\n",
    "# from RATES excel tab\n",
    "data_lucas_nicolini_rates = pd.read_excel('AdditionalFiles/data/data_consolidated.xlsx', 'RATES')\n",
    "\n",
    "# from data_consolidated tab\n",
    "data_lucas_nicolini_m1sweep = pd.read_excel('AdditionalFiles/data/data_consolidated.xlsx','data_consolidated')\n",
    "\n",
    "# from ASSETS tab\n",
    "data_lucas_nicolini_gdp = pd.read_excel('AdditionalFiles/data/data_consolidated.xlsx', 'ASSETS')"
   ]
  },
  {
   "cell_type": "code",
   "execution_count": 9,
   "metadata": {},
   "outputs": [
    {
     "name": "stdout",
     "output_type": "stream",
     "text": [
      "0 Dates > Observations: 102\n",
      "1 T-Bill Rate (3-month, annual) > Observations: 96\n",
      "2 New M1 (annual) > Observations: 98\n",
      "3 GDP (Nominal, annual) > Observations: 102\n",
      "4 NewM1/GDP > Observations: 98\n",
      "Shortest data series is Dates with data length of 96\n"
     ]
    }
   ],
   "source": [
    "# Store lists of data series and KEYs into dictionary df\n",
    "df['Dates'] = data_lucas_nicolini_gdp['YEAR'].tolist()\n",
    "df['T-Bill Rate (3-month, annual)'] = data_lucas_nicolini_rates['tbills3m'].tolist()\n",
    "df['New M1 (annual)'] = data_lucas_nicolini_m1sweep['new_m1'].tolist()\n",
    "df['GDP (Nominal, annual)'] = data_lucas_nicolini_gdp['GDP'].tolist()\n",
    "nM1 = df['New M1 (annual)']\n",
    "gdp = df['GDP (Nominal, annual)']\n",
    "df['NewM1/GDP'] = [ nM1[i]/gdp[i] for i in range(len(nM1)) ]\n",
    "\n",
    "obslength = []\n",
    "keys = []\n",
    "for list_idx, list_key in enumerate(df):\n",
    "    list_length = len(df[list_key])\n",
    "    print(list_idx, list_key, \"> Observations:\", list_length)\n",
    "    obslength.append(list_length)\n",
    "    keys.append(list_key)\n",
    "obslength_min = min(obslength)\n",
    "print(\"Shortest data series is %s with data length of %i\" %(keys[obslength==obslength_min], obslength_min))"
   ]
  },
  {
   "cell_type": "code",
   "execution_count": 10,
   "metadata": {},
   "outputs": [],
   "source": [
    "# Truncate longer series to have the same length of: obslength_min\n",
    "for list_idx, list_key in enumerate(df):\n",
    "    df[list_key] = df[list_key][0:obslength_min]"
   ]
  },
  {
   "cell_type": "code",
   "execution_count": 11,
   "metadata": {},
   "outputs": [],
   "source": [
    "# Convert df to Pandas dataframe\n",
    "d = pd.DataFrame(df)\n",
    "d = d.set_index(d['Dates'])"
   ]
  },
  {
   "cell_type": "code",
   "execution_count": 12,
   "metadata": {},
   "outputs": [],
   "source": [
    "# Truncate data window\n",
    "date_truncate_start = '1915'\n",
    "date_truncate_stop = '2007'\n",
    "\n",
    "dcut = d.loc[date_truncate_start:date_truncate_stop]"
   ]
  },
  {
   "cell_type": "code",
   "execution_count": 13,
   "metadata": {
    "scrolled": true
   },
   "outputs": [
    {
     "data": {
      "text/plain": [
       "<matplotlib.axes._subplots.AxesSubplot at 0x7f89fa3012b0>"
      ]
     },
     "execution_count": 13,
     "metadata": {},
     "output_type": "execute_result"
    },
    {
     "data": {
      "image/png": "[encoded data removed]",
      "text/plain": [
       "<Figure size 432x288 with 1 Axes>"
      ]
     },
     "metadata": {},
     "output_type": "display_data"
    }
   ],
   "source": [
    "# Sweep adjusted M1 (M1S)\n",
    "dcut.plot(y='New M1 (annual)')"
   ]
  },
  {
   "cell_type": "code",
   "execution_count": 14,
   "metadata": {
    "scrolled": false
   },
   "outputs": [
    {
     "data": {
      "text/plain": [
       "<matplotlib.axes._subplots.AxesSubplot at 0x7f89f9bd5978>"
      ]
     },
     "execution_count": 14,
     "metadata": {},
     "output_type": "execute_result"
    },
    {
     "data": {
      "image/png": "[encoded data removed]",
      "text/plain": [
       "<Figure size 432x288 with 1 Axes>"
      ]
     },
     "metadata": {},
     "output_type": "display_data"
    }
   ],
   "source": [
    "# Nominal GDP\n",
    "dcut.plot(y='GDP (Nominal, annual)')"
   ]
  },
  {
   "cell_type": "code",
   "execution_count": 15,
   "metadata": {
    "scrolled": false
   },
   "outputs": [
    {
     "data": {
      "text/plain": [
       "<matplotlib.axes._subplots.AxesSubplot at 0x7f89f9b3eb00>"
      ]
     },
     "execution_count": 15,
     "metadata": {},
     "output_type": "execute_result"
    },
    {
     "data": {
      "image/png": "[encoded data removed]",
      "text/plain": [
       "<Figure size 432x288 with 1 Axes>"
      ]
     },
     "metadata": {},
     "output_type": "display_data"
    }
   ],
   "source": [
    "# M/PY using M1 (sweep adjusted) data for M, nominal GDP for PY\n",
    "dcut.plot(y='NewM1/GDP')"
   ]
  },
  {
   "cell_type": "code",
   "execution_count": 16,
   "metadata": {},
   "outputs": [
    {
     "data": {
      "text/plain": [
       "<matplotlib.axes._subplots.AxesSubplot at 0x7f89f9c27a20>"
      ]
     },
     "execution_count": 16,
     "metadata": {},
     "output_type": "execute_result"
    },
    {
     "data": {
      "image/png": "[encoded data removed]",
      "text/plain": [
       "<Figure size 432x288 with 1 Axes>"
      ]
     },
     "metadata": {},
     "output_type": "display_data"
    }
   ],
   "source": [
    "# T-Bill Rate (3-month, annual) := r\n",
    "dcut.plot(y='T-Bill Rate (3-month, annual)')"
   ]
  },
  {
   "cell_type": "code",
   "execution_count": 17,
   "metadata": {
    "scrolled": true
   },
   "outputs": [
    {
     "data": {
      "text/plain": [
       "<matplotlib.axes._subplots.AxesSubplot at 0x7f89f9b0c278>"
      ]
     },
     "execution_count": 17,
     "metadata": {},
     "output_type": "execute_result"
    },
    {
     "data": {
      "image/png": "[encoded data removed]",
      "text/plain": [
       "<Figure size 432x288 with 1 Axes>"
      ]
     },
     "metadata": {},
     "output_type": "display_data"
    }
   ],
   "source": [
    "# Scatter plot M/PY vs. r\n",
    "dcut.plot(x='T-Bill Rate (3-month, annual)', y='NewM1/GDP', kind='scatter')"
   ]
  },
  {
   "cell_type": "code",
   "execution_count": 18,
   "metadata": {},
   "outputs": [
    {
     "data": {
      "text/plain": [
       "Dates                            1961.000000\n",
       "GDP (Nominal, annual)            2581.647731\n",
       "New M1 (annual)                    27.180772\n",
       "NewM1/GDP                           0.147899\n",
       "T-Bill Rate (3-month, annual)       3.854204\n",
       "dtype: float64"
      ]
     },
     "execution_count": 18,
     "metadata": {},
     "output_type": "execute_result"
    }
   ],
   "source": [
    "# Full sample stats\n",
    "dcut.mean()"
   ]
  },
  {
   "cell_type": "markdown",
   "metadata": {},
   "source": [
    "## Truncated data (1948-2007) (FRED's GDP deflator inflation rate and Lucas-Nicolini)"
   ]
  },
  {
   "cell_type": "markdown",
   "metadata": {},
   "source": [
    "We use the sample from 1948 to 2007 only for external calibration of $\\beta$ below. "
   ]
  },
  {
   "cell_type": "code",
   "execution_count": 19,
   "metadata": {},
   "outputs": [],
   "source": [
    "# Add data from FRED and KEY to dictionary\n",
    "df_comb = fred.get_series('GNPDEF', frequency='a')\n",
    "df_comb = df_comb.reset_index()\n",
    "df_comb.columns = ['Dates', 'GDP Deflator']\n",
    "df_comb = df_comb.set_index(df_comb['Dates'])\n",
    "# df_fred = df_fred.diff(periods=1, axis=0)[1::]\n",
    "df_comb['Inflation (GDP Deflator)'] = df_comb['GDP Deflator']/df_comb['GDP Deflator'].shift(1) - 1\n",
    "df_comb = df_comb.loc['1947-01-01':'2007-01-01']\n",
    "\n",
    "# Add data from Lucas-Nicolini (GDP Deflator inflation)\n",
    "df_comb['T-bill Rate (3-month)'] = (dcut.loc['1947':'2007', 'T-Bill Rate (3-month, annual)']/100.).tolist()\n",
    "df_comb['GDP'] = (dcut.loc['1947':'2007', 'GDP (Nominal, annual)']).tolist()\n",
    "df_comb['New M1'] = (dcut.loc['1947':'2007', 'New M1 (annual)']).tolist()\n",
    "df_comb['NewM1/GDP'] = (dcut.loc['1947':'2007', 'NewM1/GDP']).tolist()\n",
    "df_comb = df_comb"
   ]
  },
  {
   "cell_type": "code",
   "execution_count": 20,
   "metadata": {},
   "outputs": [
    {
     "data": {
      "text/html": [
       "<div>\n",
       "<style>\n",
       "    .dataframe thead tr:only-child th {\n",
       "        text-align: right;\n",
       "    }\n",
       "\n",
       "    .dataframe thead th {\n",
       "        text-align: left;\n",
       "    }\n",
       "\n",
       "    .dataframe tbody tr th {\n",
       "        vertical-align: top;\n",
       "    }\n",
       "</style>\n",
       "<table border=\"1\" class=\"dataframe\">\n",
       "  <thead>\n",
       "    <tr style=\"text-align: right;\">\n",
       "      <th></th>\n",
       "      <th>Dates</th>\n",
       "      <th>GDP Deflator</th>\n",
       "      <th>Inflation (GDP Deflator)</th>\n",
       "      <th>T-bill Rate (3-month)</th>\n",
       "      <th>GDP</th>\n",
       "      <th>New M1</th>\n",
       "      <th>NewM1/GDP</th>\n",
       "    </tr>\n",
       "    <tr>\n",
       "      <th>Dates</th>\n",
       "      <th></th>\n",
       "      <th></th>\n",
       "      <th></th>\n",
       "      <th></th>\n",
       "      <th></th>\n",
       "      <th></th>\n",
       "      <th></th>\n",
       "    </tr>\n",
       "  </thead>\n",
       "  <tbody>\n",
       "    <tr>\n",
       "      <th>1948-01-01</th>\n",
       "      <td>1948-01-01</td>\n",
       "      <td>12.927</td>\n",
       "      <td>0.056127</td>\n",
       "      <td>0.01040</td>\n",
       "      <td>269.1</td>\n",
       "      <td>40.509104</td>\n",
       "      <td>0.150536</td>\n",
       "    </tr>\n",
       "    <tr>\n",
       "      <th>1949-01-01</th>\n",
       "      <td>1949-01-01</td>\n",
       "      <td>12.906</td>\n",
       "      <td>-0.001625</td>\n",
       "      <td>0.01102</td>\n",
       "      <td>267.2</td>\n",
       "      <td>40.351796</td>\n",
       "      <td>0.151017</td>\n",
       "    </tr>\n",
       "    <tr>\n",
       "      <th>1950-01-01</th>\n",
       "      <td>1950-01-01</td>\n",
       "      <td>13.059</td>\n",
       "      <td>0.011855</td>\n",
       "      <td>0.01218</td>\n",
       "      <td>293.7</td>\n",
       "      <td>37.725570</td>\n",
       "      <td>0.128449</td>\n",
       "    </tr>\n",
       "    <tr>\n",
       "      <th>1951-01-01</th>\n",
       "      <td>1951-01-01</td>\n",
       "      <td>13.989</td>\n",
       "      <td>0.071215</td>\n",
       "      <td>0.01552</td>\n",
       "      <td>339.3</td>\n",
       "      <td>34.155615</td>\n",
       "      <td>0.100665</td>\n",
       "    </tr>\n",
       "    <tr>\n",
       "      <th>1952-01-01</th>\n",
       "      <td>1952-01-01</td>\n",
       "      <td>14.232</td>\n",
       "      <td>0.017371</td>\n",
       "      <td>0.01766</td>\n",
       "      <td>358.3</td>\n",
       "      <td>34.018979</td>\n",
       "      <td>0.094946</td>\n",
       "    </tr>\n",
       "    <tr>\n",
       "      <th>1953-01-01</th>\n",
       "      <td>1953-01-01</td>\n",
       "      <td>14.406</td>\n",
       "      <td>0.012226</td>\n",
       "      <td>0.01931</td>\n",
       "      <td>379.3</td>\n",
       "      <td>32.963354</td>\n",
       "      <td>0.086906</td>\n",
       "    </tr>\n",
       "    <tr>\n",
       "      <th>1954-01-01</th>\n",
       "      <td>1954-01-01</td>\n",
       "      <td>14.539</td>\n",
       "      <td>0.009232</td>\n",
       "      <td>0.00953</td>\n",
       "      <td>380.4</td>\n",
       "      <td>33.375394</td>\n",
       "      <td>0.087738</td>\n",
       "    </tr>\n",
       "    <tr>\n",
       "      <th>1955-01-01</th>\n",
       "      <td>1955-01-01</td>\n",
       "      <td>14.785</td>\n",
       "      <td>0.016920</td>\n",
       "      <td>0.01753</td>\n",
       "      <td>414.7</td>\n",
       "      <td>31.620449</td>\n",
       "      <td>0.076249</td>\n",
       "    </tr>\n",
       "    <tr>\n",
       "      <th>1956-01-01</th>\n",
       "      <td>1956-01-01</td>\n",
       "      <td>15.289</td>\n",
       "      <td>0.034089</td>\n",
       "      <td>0.02658</td>\n",
       "      <td>437.4</td>\n",
       "      <td>30.349794</td>\n",
       "      <td>0.069387</td>\n",
       "    </tr>\n",
       "    <tr>\n",
       "      <th>1957-01-01</th>\n",
       "      <td>1957-01-01</td>\n",
       "      <td>15.798</td>\n",
       "      <td>0.033292</td>\n",
       "      <td>0.03267</td>\n",
       "      <td>461.1</td>\n",
       "      <td>28.937324</td>\n",
       "      <td>0.062757</td>\n",
       "    </tr>\n",
       "    <tr>\n",
       "      <th>1958-01-01</th>\n",
       "      <td>1958-01-01</td>\n",
       "      <td>16.156</td>\n",
       "      <td>0.022661</td>\n",
       "      <td>0.01839</td>\n",
       "      <td>467.2</td>\n",
       "      <td>28.908390</td>\n",
       "      <td>0.061876</td>\n",
       "    </tr>\n",
       "    <tr>\n",
       "      <th>1959-01-01</th>\n",
       "      <td>1959-01-01</td>\n",
       "      <td>16.379</td>\n",
       "      <td>0.013803</td>\n",
       "      <td>0.03405</td>\n",
       "      <td>506.6</td>\n",
       "      <td>27.635215</td>\n",
       "      <td>0.054550</td>\n",
       "    </tr>\n",
       "    <tr>\n",
       "      <th>1960-01-01</th>\n",
       "      <td>1960-01-01</td>\n",
       "      <td>16.604</td>\n",
       "      <td>0.013737</td>\n",
       "      <td>0.02930</td>\n",
       "      <td>526.4</td>\n",
       "      <td>26.728723</td>\n",
       "      <td>0.050776</td>\n",
       "    </tr>\n",
       "    <tr>\n",
       "      <th>1961-01-01</th>\n",
       "      <td>1961-01-01</td>\n",
       "      <td>16.780</td>\n",
       "      <td>0.010600</td>\n",
       "      <td>0.02380</td>\n",
       "      <td>544.8</td>\n",
       "      <td>26.651982</td>\n",
       "      <td>0.048921</td>\n",
       "    </tr>\n",
       "    <tr>\n",
       "      <th>1962-01-01</th>\n",
       "      <td>1962-01-01</td>\n",
       "      <td>16.986</td>\n",
       "      <td>0.012277</td>\n",
       "      <td>0.02780</td>\n",
       "      <td>585.7</td>\n",
       "      <td>25.234762</td>\n",
       "      <td>0.043085</td>\n",
       "    </tr>\n",
       "    <tr>\n",
       "      <th>1963-01-01</th>\n",
       "      <td>1963-01-01</td>\n",
       "      <td>17.181</td>\n",
       "      <td>0.011480</td>\n",
       "      <td>0.03160</td>\n",
       "      <td>617.8</td>\n",
       "      <td>24.813856</td>\n",
       "      <td>0.040165</td>\n",
       "    </tr>\n",
       "    <tr>\n",
       "      <th>1964-01-01</th>\n",
       "      <td>1964-01-01</td>\n",
       "      <td>17.444</td>\n",
       "      <td>0.015308</td>\n",
       "      <td>0.03560</td>\n",
       "      <td>663.6</td>\n",
       "      <td>24.156118</td>\n",
       "      <td>0.036402</td>\n",
       "    </tr>\n",
       "    <tr>\n",
       "      <th>1965-01-01</th>\n",
       "      <td>1965-01-01</td>\n",
       "      <td>17.763</td>\n",
       "      <td>0.018287</td>\n",
       "      <td>0.03950</td>\n",
       "      <td>719.1</td>\n",
       "      <td>23.334724</td>\n",
       "      <td>0.032450</td>\n",
       "    </tr>\n",
       "    <tr>\n",
       "      <th>1966-01-01</th>\n",
       "      <td>1966-01-01</td>\n",
       "      <td>18.262</td>\n",
       "      <td>0.028092</td>\n",
       "      <td>0.04880</td>\n",
       "      <td>787.7</td>\n",
       "      <td>21.835724</td>\n",
       "      <td>0.027721</td>\n",
       "    </tr>\n",
       "    <tr>\n",
       "      <th>1967-01-01</th>\n",
       "      <td>1967-01-01</td>\n",
       "      <td>18.792</td>\n",
       "      <td>0.029022</td>\n",
       "      <td>0.04320</td>\n",
       "      <td>832.4</td>\n",
       "      <td>22.020663</td>\n",
       "      <td>0.026454</td>\n",
       "    </tr>\n",
       "    <tr>\n",
       "      <th>1968-01-01</th>\n",
       "      <td>1968-01-01</td>\n",
       "      <td>19.592</td>\n",
       "      <td>0.042571</td>\n",
       "      <td>0.05340</td>\n",
       "      <td>909.8</td>\n",
       "      <td>21.697076</td>\n",
       "      <td>0.023848</td>\n",
       "    </tr>\n",
       "    <tr>\n",
       "      <th>1969-01-01</th>\n",
       "      <td>1969-01-01</td>\n",
       "      <td>20.553</td>\n",
       "      <td>0.049051</td>\n",
       "      <td>0.06680</td>\n",
       "      <td>984.4</td>\n",
       "      <td>20.713125</td>\n",
       "      <td>0.021041</td>\n",
       "    </tr>\n",
       "    <tr>\n",
       "      <th>1970-01-01</th>\n",
       "      <td>1970-01-01</td>\n",
       "      <td>21.639</td>\n",
       "      <td>0.052839</td>\n",
       "      <td>0.06430</td>\n",
       "      <td>1038.3</td>\n",
       "      <td>20.649138</td>\n",
       "      <td>0.019887</td>\n",
       "    </tr>\n",
       "    <tr>\n",
       "      <th>1971-01-01</th>\n",
       "      <td>1971-01-01</td>\n",
       "      <td>22.736</td>\n",
       "      <td>0.050696</td>\n",
       "      <td>0.04350</td>\n",
       "      <td>1126.8</td>\n",
       "      <td>20.260916</td>\n",
       "      <td>0.017981</td>\n",
       "    </tr>\n",
       "    <tr>\n",
       "      <th>1972-01-01</th>\n",
       "      <td>1972-01-01</td>\n",
       "      <td>23.717</td>\n",
       "      <td>0.043147</td>\n",
       "      <td>0.04070</td>\n",
       "      <td>1237.9</td>\n",
       "      <td>20.130867</td>\n",
       "      <td>0.016262</td>\n",
       "    </tr>\n",
       "    <tr>\n",
       "      <th>1973-01-01</th>\n",
       "      <td>1973-01-01</td>\n",
       "      <td>25.022</td>\n",
       "      <td>0.055024</td>\n",
       "      <td>0.07040</td>\n",
       "      <td>1382.3</td>\n",
       "      <td>19.019026</td>\n",
       "      <td>0.013759</td>\n",
       "    </tr>\n",
       "    <tr>\n",
       "      <th>1974-01-01</th>\n",
       "      <td>1974-01-01</td>\n",
       "      <td>27.276</td>\n",
       "      <td>0.090081</td>\n",
       "      <td>0.07890</td>\n",
       "      <td>1499.5</td>\n",
       "      <td>18.286095</td>\n",
       "      <td>0.012195</td>\n",
       "    </tr>\n",
       "    <tr>\n",
       "      <th>1975-01-01</th>\n",
       "      <td>1975-01-01</td>\n",
       "      <td>29.792</td>\n",
       "      <td>0.092242</td>\n",
       "      <td>0.05840</td>\n",
       "      <td>1637.7</td>\n",
       "      <td>17.530683</td>\n",
       "      <td>0.010704</td>\n",
       "    </tr>\n",
       "    <tr>\n",
       "      <th>1976-01-01</th>\n",
       "      <td>1976-01-01</td>\n",
       "      <td>31.442</td>\n",
       "      <td>0.055384</td>\n",
       "      <td>0.04990</td>\n",
       "      <td>1824.6</td>\n",
       "      <td>16.781760</td>\n",
       "      <td>0.009198</td>\n",
       "    </tr>\n",
       "    <tr>\n",
       "      <th>1977-01-01</th>\n",
       "      <td>1977-01-01</td>\n",
       "      <td>33.394</td>\n",
       "      <td>0.062083</td>\n",
       "      <td>0.05270</td>\n",
       "      <td>2030.1</td>\n",
       "      <td>16.299690</td>\n",
       "      <td>0.008029</td>\n",
       "    </tr>\n",
       "    <tr>\n",
       "      <th>1978-01-01</th>\n",
       "      <td>1978-01-01</td>\n",
       "      <td>35.736</td>\n",
       "      <td>0.070132</td>\n",
       "      <td>0.07220</td>\n",
       "      <td>2293.8</td>\n",
       "      <td>15.576772</td>\n",
       "      <td>0.006791</td>\n",
       "    </tr>\n",
       "    <tr>\n",
       "      <th>1979-01-01</th>\n",
       "      <td>1979-01-01</td>\n",
       "      <td>38.714</td>\n",
       "      <td>0.083333</td>\n",
       "      <td>0.10050</td>\n",
       "      <td>2562.2</td>\n",
       "      <td>14.901257</td>\n",
       "      <td>0.005816</td>\n",
       "    </tr>\n",
       "    <tr>\n",
       "      <th>1980-01-01</th>\n",
       "      <td>1980-01-01</td>\n",
       "      <td>42.216</td>\n",
       "      <td>0.090458</td>\n",
       "      <td>0.11510</td>\n",
       "      <td>2788.1</td>\n",
       "      <td>14.651555</td>\n",
       "      <td>0.005255</td>\n",
       "    </tr>\n",
       "    <tr>\n",
       "      <th>1981-01-01</th>\n",
       "      <td>1981-01-01</td>\n",
       "      <td>46.212</td>\n",
       "      <td>0.094656</td>\n",
       "      <td>0.14030</td>\n",
       "      <td>3126.8</td>\n",
       "      <td>13.966355</td>\n",
       "      <td>0.004467</td>\n",
       "    </tr>\n",
       "    <tr>\n",
       "      <th>1982-01-01</th>\n",
       "      <td>1982-01-01</td>\n",
       "      <td>49.066</td>\n",
       "      <td>0.061759</td>\n",
       "      <td>0.10690</td>\n",
       "      <td>3253.2</td>\n",
       "      <td>15.866301</td>\n",
       "      <td>0.004877</td>\n",
       "    </tr>\n",
       "    <tr>\n",
       "      <th>1983-01-01</th>\n",
       "      <td>1983-01-01</td>\n",
       "      <td>50.980</td>\n",
       "      <td>0.039009</td>\n",
       "      <td>0.08630</td>\n",
       "      <td>3534.6</td>\n",
       "      <td>22.605457</td>\n",
       "      <td>0.006395</td>\n",
       "    </tr>\n",
       "    <tr>\n",
       "      <th>1984-01-01</th>\n",
       "      <td>1984-01-01</td>\n",
       "      <td>52.826</td>\n",
       "      <td>0.036210</td>\n",
       "      <td>0.09530</td>\n",
       "      <td>3930.9</td>\n",
       "      <td>20.916624</td>\n",
       "      <td>0.005321</td>\n",
       "    </tr>\n",
       "    <tr>\n",
       "      <th>1985-01-01</th>\n",
       "      <td>1985-01-01</td>\n",
       "      <td>54.499</td>\n",
       "      <td>0.031670</td>\n",
       "      <td>0.07470</td>\n",
       "      <td>4217.5</td>\n",
       "      <td>22.642526</td>\n",
       "      <td>0.005369</td>\n",
       "    </tr>\n",
       "    <tr>\n",
       "      <th>1986-01-01</th>\n",
       "      <td>1986-01-01</td>\n",
       "      <td>55.604</td>\n",
       "      <td>0.020276</td>\n",
       "      <td>0.05980</td>\n",
       "      <td>4460.1</td>\n",
       "      <td>25.540860</td>\n",
       "      <td>0.005727</td>\n",
       "    </tr>\n",
       "    <tr>\n",
       "      <th>1987-01-01</th>\n",
       "      <td>1987-01-01</td>\n",
       "      <td>56.990</td>\n",
       "      <td>0.024926</td>\n",
       "      <td>0.05820</td>\n",
       "      <td>4736.4</td>\n",
       "      <td>23.994719</td>\n",
       "      <td>0.005066</td>\n",
       "    </tr>\n",
       "    <tr>\n",
       "      <th>1988-01-01</th>\n",
       "      <td>1988-01-01</td>\n",
       "      <td>59.002</td>\n",
       "      <td>0.035304</td>\n",
       "      <td>0.06690</td>\n",
       "      <td>5100.4</td>\n",
       "      <td>22.812435</td>\n",
       "      <td>0.004473</td>\n",
       "    </tr>\n",
       "    <tr>\n",
       "      <th>1989-01-01</th>\n",
       "      <td>1989-01-01</td>\n",
       "      <td>61.326</td>\n",
       "      <td>0.039388</td>\n",
       "      <td>0.08120</td>\n",
       "      <td>5482.1</td>\n",
       "      <td>21.364520</td>\n",
       "      <td>0.003897</td>\n",
       "    </tr>\n",
       "    <tr>\n",
       "      <th>1990-01-01</th>\n",
       "      <td>1990-01-01</td>\n",
       "      <td>63.638</td>\n",
       "      <td>0.037700</td>\n",
       "      <td>0.07510</td>\n",
       "      <td>5800.5</td>\n",
       "      <td>21.115581</td>\n",
       "      <td>0.003640</td>\n",
       "    </tr>\n",
       "    <tr>\n",
       "      <th>1991-01-01</th>\n",
       "      <td>1991-01-01</td>\n",
       "      <td>65.799</td>\n",
       "      <td>0.033958</td>\n",
       "      <td>0.05420</td>\n",
       "      <td>5992.1</td>\n",
       "      <td>22.404891</td>\n",
       "      <td>0.003739</td>\n",
       "    </tr>\n",
       "    <tr>\n",
       "      <th>1992-01-01</th>\n",
       "      <td>1992-01-01</td>\n",
       "      <td>67.295</td>\n",
       "      <td>0.022736</td>\n",
       "      <td>0.03450</td>\n",
       "      <td>6342.3</td>\n",
       "      <td>23.714361</td>\n",
       "      <td>0.003739</td>\n",
       "    </tr>\n",
       "    <tr>\n",
       "      <th>1993-01-01</th>\n",
       "      <td>1993-01-01</td>\n",
       "      <td>68.888</td>\n",
       "      <td>0.023672</td>\n",
       "      <td>0.03020</td>\n",
       "      <td>6667.4</td>\n",
       "      <td>24.143302</td>\n",
       "      <td>0.003621</td>\n",
       "    </tr>\n",
       "    <tr>\n",
       "      <th>1994-01-01</th>\n",
       "      <td>1994-01-01</td>\n",
       "      <td>70.356</td>\n",
       "      <td>0.021310</td>\n",
       "      <td>0.04290</td>\n",
       "      <td>7085.2</td>\n",
       "      <td>22.584513</td>\n",
       "      <td>0.003188</td>\n",
       "    </tr>\n",
       "    <tr>\n",
       "      <th>1995-01-01</th>\n",
       "      <td>1995-01-01</td>\n",
       "      <td>71.841</td>\n",
       "      <td>0.021107</td>\n",
       "      <td>0.05510</td>\n",
       "      <td>7414.7</td>\n",
       "      <td>21.912700</td>\n",
       "      <td>0.002955</td>\n",
       "    </tr>\n",
       "    <tr>\n",
       "      <th>1996-01-01</th>\n",
       "      <td>1996-01-01</td>\n",
       "      <td>73.157</td>\n",
       "      <td>0.018318</td>\n",
       "      <td>0.05020</td>\n",
       "      <td>7838.5</td>\n",
       "      <td>21.198256</td>\n",
       "      <td>0.002704</td>\n",
       "    </tr>\n",
       "    <tr>\n",
       "      <th>1997-01-01</th>\n",
       "      <td>1997-01-01</td>\n",
       "      <td>74.419</td>\n",
       "      <td>0.017251</td>\n",
       "      <td>0.05070</td>\n",
       "      <td>8332.4</td>\n",
       "      <td>20.941785</td>\n",
       "      <td>0.002513</td>\n",
       "    </tr>\n",
       "    <tr>\n",
       "      <th>1998-01-01</th>\n",
       "      <td>1998-01-01</td>\n",
       "      <td>75.260</td>\n",
       "      <td>0.011301</td>\n",
       "      <td>0.04810</td>\n",
       "      <td>8793.5</td>\n",
       "      <td>21.787823</td>\n",
       "      <td>0.002478</td>\n",
       "    </tr>\n",
       "    <tr>\n",
       "      <th>1999-01-01</th>\n",
       "      <td>1999-01-01</td>\n",
       "      <td>76.343</td>\n",
       "      <td>0.014390</td>\n",
       "      <td>0.04660</td>\n",
       "      <td>9353.5</td>\n",
       "      <td>21.214543</td>\n",
       "      <td>0.002268</td>\n",
       "    </tr>\n",
       "    <tr>\n",
       "      <th>2000-01-01</th>\n",
       "      <td>2000-01-01</td>\n",
       "      <td>78.048</td>\n",
       "      <td>0.022333</td>\n",
       "      <td>0.05850</td>\n",
       "      <td>9951.5</td>\n",
       "      <td>21.168519</td>\n",
       "      <td>0.002127</td>\n",
       "    </tr>\n",
       "    <tr>\n",
       "      <th>2001-01-01</th>\n",
       "      <td>2001-01-01</td>\n",
       "      <td>79.764</td>\n",
       "      <td>0.021986</td>\n",
       "      <td>0.03440</td>\n",
       "      <td>10286.2</td>\n",
       "      <td>23.757521</td>\n",
       "      <td>0.002310</td>\n",
       "    </tr>\n",
       "    <tr>\n",
       "      <th>2002-01-01</th>\n",
       "      <td>2002-01-01</td>\n",
       "      <td>81.024</td>\n",
       "      <td>0.015797</td>\n",
       "      <td>0.01620</td>\n",
       "      <td>10642.3</td>\n",
       "      <td>25.558307</td>\n",
       "      <td>0.002402</td>\n",
       "    </tr>\n",
       "    <tr>\n",
       "      <th>2003-01-01</th>\n",
       "      <td>2003-01-01</td>\n",
       "      <td>82.526</td>\n",
       "      <td>0.018538</td>\n",
       "      <td>0.01010</td>\n",
       "      <td>11142.1</td>\n",
       "      <td>27.221218</td>\n",
       "      <td>0.002443</td>\n",
       "    </tr>\n",
       "    <tr>\n",
       "      <th>2004-01-01</th>\n",
       "      <td>2004-01-01</td>\n",
       "      <td>84.748</td>\n",
       "      <td>0.026925</td>\n",
       "      <td>0.01380</td>\n",
       "      <td>11867.8</td>\n",
       "      <td>27.911519</td>\n",
       "      <td>0.002352</td>\n",
       "    </tr>\n",
       "    <tr>\n",
       "      <th>2005-01-01</th>\n",
       "      <td>2005-01-01</td>\n",
       "      <td>87.390</td>\n",
       "      <td>0.031175</td>\n",
       "      <td>0.03160</td>\n",
       "      <td>12638.4</td>\n",
       "      <td>27.106135</td>\n",
       "      <td>0.002145</td>\n",
       "    </tr>\n",
       "    <tr>\n",
       "      <th>2006-01-01</th>\n",
       "      <td>2006-01-01</td>\n",
       "      <td>90.039</td>\n",
       "      <td>0.030312</td>\n",
       "      <td>0.04730</td>\n",
       "      <td>13398.9</td>\n",
       "      <td>26.957961</td>\n",
       "      <td>0.002012</td>\n",
       "    </tr>\n",
       "    <tr>\n",
       "      <th>2007-01-01</th>\n",
       "      <td>2007-01-01</td>\n",
       "      <td>92.455</td>\n",
       "      <td>0.026833</td>\n",
       "      <td>0.04410</td>\n",
       "      <td>14061.8</td>\n",
       "      <td>26.547505</td>\n",
       "      <td>0.001888</td>\n",
       "    </tr>\n",
       "  </tbody>\n",
       "</table>\n",
       "</div>"
      ],
      "text/plain": [
       "                Dates  GDP Deflator  Inflation (GDP Deflator)  \\\n",
       "Dates                                                           \n",
       "1948-01-01 1948-01-01        12.927                  0.056127   \n",
       "1949-01-01 1949-01-01        12.906                 -0.001625   \n",
       "1950-01-01 1950-01-01        13.059                  0.011855   \n",
       "1951-01-01 1951-01-01        13.989                  0.071215   \n",
       "1952-01-01 1952-01-01        14.232                  0.017371   \n",
       "1953-01-01 1953-01-01        14.406                  0.012226   \n",
       "1954-01-01 1954-01-01        14.539                  0.009232   \n",
       "1955-01-01 1955-01-01        14.785                  0.016920   \n",
       "1956-01-01 1956-01-01        15.289                  0.034089   \n",
       "1957-01-01 1957-01-01        15.798                  0.033292   \n",
       "1958-01-01 1958-01-01        16.156                  0.022661   \n",
       "1959-01-01 1959-01-01        16.379                  0.013803   \n",
       "1960-01-01 1960-01-01        16.604                  0.013737   \n",
       "1961-01-01 1961-01-01        16.780                  0.010600   \n",
       "1962-01-01 1962-01-01        16.986                  0.012277   \n",
       "1963-01-01 1963-01-01        17.181                  0.011480   \n",
       "1964-01-01 1964-01-01        17.444                  0.015308   \n",
       "1965-01-01 1965-01-01        17.763                  0.018287   \n",
       "1966-01-01 1966-01-01        18.262                  0.028092   \n",
       "1967-01-01 1967-01-01        18.792                  0.029022   \n",
       "1968-01-01 1968-01-01        19.592                  0.042571   \n",
       "1969-01-01 1969-01-01        20.553                  0.049051   \n",
       "1970-01-01 1970-01-01        21.639                  0.052839   \n",
       "1971-01-01 1971-01-01        22.736                  0.050696   \n",
       "1972-01-01 1972-01-01        23.717                  0.043147   \n",
       "1973-01-01 1973-01-01        25.022                  0.055024   \n",
       "1974-01-01 1974-01-01        27.276                  0.090081   \n",
       "1975-01-01 1975-01-01        29.792                  0.092242   \n",
       "1976-01-01 1976-01-01        31.442                  0.055384   \n",
       "1977-01-01 1977-01-01        33.394                  0.062083   \n",
       "1978-01-01 1978-01-01        35.736                  0.070132   \n",
       "1979-01-01 1979-01-01        38.714                  0.083333   \n",
       "1980-01-01 1980-01-01        42.216                  0.090458   \n",
       "1981-01-01 1981-01-01        46.212                  0.094656   \n",
       "1982-01-01 1982-01-01        49.066                  0.061759   \n",
       "1983-01-01 1983-01-01        50.980                  0.039009   \n",
       "1984-01-01 1984-01-01        52.826                  0.036210   \n",
       "1985-01-01 1985-01-01        54.499                  0.031670   \n",
       "1986-01-01 1986-01-01        55.604                  0.020276   \n",
       "1987-01-01 1987-01-01        56.990                  0.024926   \n",
       "1988-01-01 1988-01-01        59.002                  0.035304   \n",
       "1989-01-01 1989-01-01        61.326                  0.039388   \n",
       "1990-01-01 1990-01-01        63.638                  0.037700   \n",
       "1991-01-01 1991-01-01        65.799                  0.033958   \n",
       "1992-01-01 1992-01-01        67.295                  0.022736   \n",
       "1993-01-01 1993-01-01        68.888                  0.023672   \n",
       "1994-01-01 1994-01-01        70.356                  0.021310   \n",
       "1995-01-01 1995-01-01        71.841                  0.021107   \n",
       "1996-01-01 1996-01-01        73.157                  0.018318   \n",
       "1997-01-01 1997-01-01        74.419                  0.017251   \n",
       "1998-01-01 1998-01-01        75.260                  0.011301   \n",
       "1999-01-01 1999-01-01        76.343                  0.014390   \n",
       "2000-01-01 2000-01-01        78.048                  0.022333   \n",
       "2001-01-01 2001-01-01        79.764                  0.021986   \n",
       "2002-01-01 2002-01-01        81.024                  0.015797   \n",
       "2003-01-01 2003-01-01        82.526                  0.018538   \n",
       "2004-01-01 2004-01-01        84.748                  0.026925   \n",
       "2005-01-01 2005-01-01        87.390                  0.031175   \n",
       "2006-01-01 2006-01-01        90.039                  0.030312   \n",
       "2007-01-01 2007-01-01        92.455                  0.026833   \n",
       "\n",
       "            T-bill Rate (3-month)      GDP     New M1  NewM1/GDP  \n",
       "Dates                                                             \n",
       "1948-01-01                0.01040    269.1  40.509104   0.150536  \n",
       "1949-01-01                0.01102    267.2  40.351796   0.151017  \n",
       "1950-01-01                0.01218    293.7  37.725570   0.128449  \n",
       "1951-01-01                0.01552    339.3  34.155615   0.100665  \n",
       "1952-01-01                0.01766    358.3  34.018979   0.094946  \n",
       "1953-01-01                0.01931    379.3  32.963354   0.086906  \n",
       "1954-01-01                0.00953    380.4  33.375394   0.087738  \n",
       "1955-01-01                0.01753    414.7  31.620449   0.076249  \n",
       "1956-01-01                0.02658    437.4  30.349794   0.069387  \n",
       "1957-01-01                0.03267    461.1  28.937324   0.062757  \n",
       "1958-01-01                0.01839    467.2  28.908390   0.061876  \n",
       "1959-01-01                0.03405    506.6  27.635215   0.054550  \n",
       "1960-01-01                0.02930    526.4  26.728723   0.050776  \n",
       "1961-01-01                0.02380    544.8  26.651982   0.048921  \n",
       "1962-01-01                0.02780    585.7  25.234762   0.043085  \n",
       "1963-01-01                0.03160    617.8  24.813856   0.040165  \n",
       "1964-01-01                0.03560    663.6  24.156118   0.036402  \n",
       "1965-01-01                0.03950    719.1  23.334724   0.032450  \n",
       "1966-01-01                0.04880    787.7  21.835724   0.027721  \n",
       "1967-01-01                0.04320    832.4  22.020663   0.026454  \n",
       "1968-01-01                0.05340    909.8  21.697076   0.023848  \n",
       "1969-01-01                0.06680    984.4  20.713125   0.021041  \n",
       "1970-01-01                0.06430   1038.3  20.649138   0.019887  \n",
       "1971-01-01                0.04350   1126.8  20.260916   0.017981  \n",
       "1972-01-01                0.04070   1237.9  20.130867   0.016262  \n",
       "1973-01-01                0.07040   1382.3  19.019026   0.013759  \n",
       "1974-01-01                0.07890   1499.5  18.286095   0.012195  \n",
       "1975-01-01                0.05840   1637.7  17.530683   0.010704  \n",
       "1976-01-01                0.04990   1824.6  16.781760   0.009198  \n",
       "1977-01-01                0.05270   2030.1  16.299690   0.008029  \n",
       "1978-01-01                0.07220   2293.8  15.576772   0.006791  \n",
       "1979-01-01                0.10050   2562.2  14.901257   0.005816  \n",
       "1980-01-01                0.11510   2788.1  14.651555   0.005255  \n",
       "1981-01-01                0.14030   3126.8  13.966355   0.004467  \n",
       "1982-01-01                0.10690   3253.2  15.866301   0.004877  \n",
       "1983-01-01                0.08630   3534.6  22.605457   0.006395  \n",
       "1984-01-01                0.09530   3930.9  20.916624   0.005321  \n",
       "1985-01-01                0.07470   4217.5  22.642526   0.005369  \n",
       "1986-01-01                0.05980   4460.1  25.540860   0.005727  \n",
       "1987-01-01                0.05820   4736.4  23.994719   0.005066  \n",
       "1988-01-01                0.06690   5100.4  22.812435   0.004473  \n",
       "1989-01-01                0.08120   5482.1  21.364520   0.003897  \n",
       "1990-01-01                0.07510   5800.5  21.115581   0.003640  \n",
       "1991-01-01                0.05420   5992.1  22.404891   0.003739  \n",
       "1992-01-01                0.03450   6342.3  23.714361   0.003739  \n",
       "1993-01-01                0.03020   6667.4  24.143302   0.003621  \n",
       "1994-01-01                0.04290   7085.2  22.584513   0.003188  \n",
       "1995-01-01                0.05510   7414.7  21.912700   0.002955  \n",
       "1996-01-01                0.05020   7838.5  21.198256   0.002704  \n",
       "1997-01-01                0.05070   8332.4  20.941785   0.002513  \n",
       "1998-01-01                0.04810   8793.5  21.787823   0.002478  \n",
       "1999-01-01                0.04660   9353.5  21.214543   0.002268  \n",
       "2000-01-01                0.05850   9951.5  21.168519   0.002127  \n",
       "2001-01-01                0.03440  10286.2  23.757521   0.002310  \n",
       "2002-01-01                0.01620  10642.3  25.558307   0.002402  \n",
       "2003-01-01                0.01010  11142.1  27.221218   0.002443  \n",
       "2004-01-01                0.01380  11867.8  27.911519   0.002352  \n",
       "2005-01-01                0.03160  12638.4  27.106135   0.002145  \n",
       "2006-01-01                0.04730  13398.9  26.957961   0.002012  \n",
       "2007-01-01                0.04410  14061.8  26.547505   0.001888  "
      ]
     },
     "execution_count": 20,
     "metadata": {},
     "output_type": "execute_result"
    }
   ],
   "source": [
    "# From first obs (since first-differencing GDP deflator loses one initial data point)\n",
    "df_comb = df_comb.dropna(axis='rows')\n",
    "df_comb"
   ]
  },
  {
   "cell_type": "markdown",
   "metadata": {},
   "source": [
    "### Robustness: Data from FRED (CPI inflation) combined with Lucas-Nicolini"
   ]
  },
  {
   "cell_type": "markdown",
   "metadata": {},
   "source": [
    "If we want to use a longer data series for inflation to match up with the rest of the Lucas-Nicolini data series starting from 1915, then we'll have to construct inflation using CPI data from 1915. This section shows that this series co-moves with the GDP deflator closely for the overlapping sample periods from 1948 to 2007."
   ]
  },
  {
   "cell_type": "code",
   "execution_count": 21,
   "metadata": {},
   "outputs": [],
   "source": [
    "# Series from FRED: CPIAUCNS\n",
    "# Add data from FRED and KEY to dictionary\n",
    "df_comb2 = fred.get_series('CPIAUCNS', frequency='a')\n",
    "df_comb2 = df_comb2.reset_index()\n",
    "df_comb2.columns = ['Dates', 'CPI (seasonal)']\n",
    "df_comb2 = df_comb2.set_index(df_comb2['Dates'])\n",
    "\n",
    "\n",
    "start_year = '1915'\n",
    "stop_year = '2007'# '2007'\n",
    "df_comb2['Inflation (CPI, raw)'] = df_comb2['CPI (seasonal)']/df_comb2['CPI (seasonal)'].shift(1) - 1\n",
    "df_comb2 = df_comb2.loc[start_year+'-01-01':stop_year+'-01-01']\n",
    "\n",
    "\n",
    "# Add data from Lucas-Nicolini (GDP Deflator inflation)\n",
    "df_comb2['T-bill Rate (3-month)'] = (dcut.loc[start_year:stop_year, 'T-Bill Rate (3-month, annual)']/100.).tolist()\n",
    "df_comb2['GDP'] = (dcut.loc[start_year:stop_year, 'GDP (Nominal, annual)']).tolist()\n",
    "df_comb2['New M1'] = (dcut.loc[start_year:stop_year, 'New M1 (annual)']).tolist()\n",
    "df_comb2['NewM1/GDP'] = (dcut.loc[start_year:stop_year, 'NewM1/GDP']).tolist()\n",
    "\n",
    "# From first obs (since first-differencing GDP deflator loses one initial data point)\n",
    "df_comb2 = df_comb2.dropna(axis='rows')"
   ]
  },
  {
   "cell_type": "code",
   "execution_count": 22,
   "metadata": {},
   "outputs": [
    {
     "data": {
      "text/plain": [
       "<matplotlib.axes._subplots.AxesSubplot at 0x7f89fa2b8e48>"
      ]
     },
     "execution_count": 22,
     "metadata": {},
     "output_type": "execute_result"
    },
    {
     "data": {
      "image/png": "[encoded data removed]",
      "text/plain": [
       "<Figure size 432x288 with 1 Axes>"
      ]
     },
     "metadata": {},
     "output_type": "display_data"
    }
   ],
   "source": [
    "# Visually check if OK (i.e., \"reasonable\") to use CPI inflation instead of GDP-deflator inflation\n",
    "df_comb2['Inflation (CPI, raw)'].plot()\n",
    "df_comb['Inflation (GDP Deflator)'].plot()"
   ]
  },
  {
   "cell_type": "markdown",
   "metadata": {},
   "source": [
    "In our calibrations below, we will externally calibrate $\\beta$ using the T-Bill (3-month) rate and the CPI growth rate for data stored above in the subset of ``df_comb2`` Thus we will ignore this GDP-deflator inflation series."
   ]
  },
  {
   "cell_type": "markdown",
   "metadata": {},
   "source": [
    "# Using spline basis functions to fit money demand ($M1/GDP$ vs $i$)"
   ]
  },
  {
   "cell_type": "code",
   "execution_count": 23,
   "metadata": {},
   "outputs": [],
   "source": [
    "y = df_comb2['NewM1/GDP'].tolist()\n",
    "x = df_comb2['T-bill Rate (3-month)'].tolist()\n",
    "data = np.asarray(sorted(zip(x,y)))\n",
    "L_fit = interpolate.splrep(data[:,0], data[:,1], s=3)"
   ]
  },
  {
   "cell_type": "code",
   "execution_count": 24,
   "metadata": {},
   "outputs": [
    {
     "data": {
      "image/png": "[encoded data removed]",
      "text/plain": [
       "<Figure size 432x288 with 1 Axes>"
      ]
     },
     "metadata": {},
     "output_type": "display_data"
    }
   ],
   "source": [
    "# Scatter plot data\n",
    "plt.plot(x, y, 'o')\n",
    "# Plot fitted spline function \n",
    "i_set = np.linspace(data[:,0].min(), data[:,0].max())\n",
    "L_set = interpolate.splev(i_set, L_fit, der=0)\n",
    "plt.plot(i_set, L_set, '--r')\n",
    "# Plot point where data at mean\n",
    "i_mean = np.asarray(x).mean()\n",
    "L_mean = interpolate.splev(i_mean, L_fit, der=0)\n",
    "# L_mean = df_comb2['NewM1/GDP'].mean()\n",
    "L_mean_slope = interpolate.splev(i_mean, L_fit, der=1)\n",
    "plt.plot(i_mean, L_mean, 'or')\n",
    "# plt.text(i_mean, L_mean, \"(\" + str(i_mean) +\",\" + str(L_mean) + \")\")\n",
    "plt.text(i_mean, L_mean, \"(%6.3f, %6.3f)\" % (i_mean, L_mean))\n",
    "plt.xlabel(\"Nominal interest (3-mth T Bill Rate)\")\n",
    "plt.ylabel(\"New M1 / GDP\")\n",
    "plt.show()"
   ]
  },
  {
   "cell_type": "markdown",
   "metadata": {},
   "source": [
    "**Note**: The red dot corresponds to the fitted value of $M1/GDP$ at the sample mean of nominal interest rate."
   ]
  },
  {
   "cell_type": "code",
   "execution_count": 25,
   "metadata": {},
   "outputs": [
    {
     "name": "stdout",
     "output_type": "stream",
     "text": [
      "L_mean = 0.1226\n",
      "i_mean = 0.0385\n",
      "Slope = -3.5883\n",
      "Elasticity of M1/GDP w.r.t. Nominal Interest Rate = -1.1279\n"
     ]
    }
   ],
   "source": [
    "Elasticity_L_i = L_mean_slope*i_mean/L_mean\n",
    "print(\"L_mean = %6.4f\" %(L_mean))\n",
    "print(\"i_mean = %6.4f\" %(i_mean))\n",
    "print(\"Slope = %6.4f\" %(L_mean_slope))\n",
    "print(\"Elasticity of M1/GDP w.r.t. Nominal Interest Rate = %6.4f\" %(Elasticity_L_i) )"
   ]
  },
  {
   "cell_type": "code",
   "execution_count": 26,
   "metadata": {},
   "outputs": [
    {
     "name": "stdout",
     "output_type": "stream",
     "text": [
      "Mean in Annual Data:\n",
      "\n"
     ]
    },
    {
     "data": {
      "text/plain": [
       "CPI (seasonal)             61.693871\n",
       "Inflation (CPI, raw)        0.034330\n",
       "T-bill Rate (3-month)       0.038542\n",
       "GDP                      2581.647731\n",
       "New M1                     27.180772\n",
       "NewM1/GDP                   0.147899\n",
       "dtype: float64"
      ]
     },
     "execution_count": 26,
     "metadata": {},
     "output_type": "execute_result"
    }
   ],
   "source": [
    "# Show data means\n",
    "print(\"Mean in Annual Data:\\n\")\n",
    "df_comb2.mean()"
   ]
  },
  {
   "cell_type": "markdown",
   "metadata": {},
   "source": [
    "# Hand calculation from model's Stationary Monetary Equilibrium"
   ]
  },
  {
   "cell_type": "markdown",
   "metadata": {},
   "source": [
    "## For calibrating $\\beta$ (1915-2007)"
   ]
  },
  {
   "cell_type": "markdown",
   "metadata": {},
   "source": [
    "Ex post Fisher relation gives us\n",
    "$$\n",
    "(1+r) = \\frac{1+i}{1+\\pi}\n",
    "$$\n",
    "where\n",
    "* $r$, real interest rate\n",
    "* $i$, nominal interest rate\n",
    "* $\\pi$, inflation rate\n",
    "\n",
    "In a stationary equilibrium in the model, we have $\\beta = 1/(1+r)$. So we can relate $\\beta$ to long run average in data as:\n",
    "$$\n",
    "\\beta = \\frac{1+\\pi}{1+i}\n",
    "$$"
   ]
  },
  {
   "cell_type": "code",
   "execution_count": 27,
   "metadata": {},
   "outputs": [
    {
     "name": "stdout",
     "output_type": "stream",
     "text": [
      "BETA = 0.99594\n"
     ]
    }
   ],
   "source": [
    "# Nominal interest rate\n",
    "i = df_comb2['T-bill Rate (3-month)'].tolist()\n",
    "ibar = np.asarray(i).mean()\n",
    "# Inflation rate\n",
    "pi = df_comb2['Inflation (CPI, raw)'].tolist()\n",
    "pibar = np.asarray(pi).mean()\n",
    "# Compute BETA\n",
    "beta = (1.0 + pibar)/(1.0 + ibar)\n",
    "print(\"BETA = %0.5g\" % (beta))"
   ]
  },
  {
   "cell_type": "markdown",
   "metadata": {},
   "source": [
    "## Model's stationary equilibrium elasticity"
   ]
  },
  {
   "cell_type": "markdown",
   "metadata": {},
   "source": [
    "Getting elasticity of M1/GDP w.r.t. i:\n",
    "$$\n",
    "\\eta_i := \\frac{d (M1/GDP)}{di}\\frac{\\bar{i}}{\\bar{M1/GDP}} = \\frac{\\partial (M1/GDP)}{\\partial \\pi} \\frac{d\\pi}{di}\\frac{\\bar{i}}{\\bar{M1/GDP}}\n",
    "$$\n",
    "And set\n",
    "$$\n",
    "\\frac{d\\pi}{di} = \\beta\n",
    "$$\n",
    "\n",
    "since Fisher relation says $\\pi = \\beta (1+i) - 1$."
   ]
  },
  {
   "cell_type": "code",
   "execution_count": 28,
   "metadata": {},
   "outputs": [
    {
     "name": "stdout",
     "output_type": "stream",
     "text": [
      "Model implied elasticity of M1/GDP w.r.t. i = -1.4620\n"
     ]
    }
   ],
   "source": [
    "# M1/GDP ratio from model equilibrium. Already Annualized in CALIBRATE.PY: Q freq --> A freq\n",
    "M1GDPbar = 0.188160\n",
    "# Numerical gradient of M1/GDP wrt inflation rate. Annualized: Q freq --> A freq\n",
    "slope_M1GDP_pi = -0.447899 #-0.359968\n",
    "slope_M1GDP_pi = slope_M1GDP_pi*16.0\n",
    "\n",
    "# Elasticity\n",
    "ETA = slope_M1GDP_pi*beta*(ibar/M1GDPbar)\n",
    "print(\"Model implied elasticity of M1/GDP w.r.t. i = %6.4f\" % (ETA))"
   ]
  },
  {
   "cell_type": "markdown",
   "metadata": {},
   "source": [
    "# Summary"
   ]
  },
  {
   "cell_type": "markdown",
   "metadata": {},
   "source": [
    "We did the following:\n",
    "\n",
    "* For fixed model parameters $(\\bar{U}_{DM}, \\kappa, \\chi)$ we can generated annualized measures of average hours worked and M1/GDP ratio; and we also compute implied point-elasticity of $M1/GDP$ w.r.t. $i$, within an $\\epsilon$-neighborhood of model solved at the data's average inflation and interest rates.\n",
    "\n",
    "* Model parameters $(\\bar{U}_{DM}, \\kappa, \\chi)$ are searched to make them as close as possible to the data avarages for hours worked and M1/GDP ratio, and, as close as possible to the auxiliary spline-fit statistical model's elasticity of $M1/GDP$ w.r.t. $i$ (point elasticity at data means).\n",
    "\n",
    "Here's the result:"
   ]
  },
  {
   "cell_type": "code",
   "execution_count": 29,
   "metadata": {},
   "outputs": [
    {
     "data": {
      "text/html": [
       "<div>\n",
       "<style>\n",
       "    .dataframe thead tr:only-child th {\n",
       "        text-align: right;\n",
       "    }\n",
       "\n",
       "    .dataframe thead th {\n",
       "        text-align: left;\n",
       "    }\n",
       "\n",
       "    .dataframe tbody tr th {\n",
       "        vertical-align: top;\n",
       "    }\n",
       "</style>\n",
       "<table border=\"1\" class=\"dataframe\">\n",
       "  <thead>\n",
       "    <tr style=\"text-align: right;\">\n",
       "      <th></th>\n",
       "      <th>Aux. Statistic</th>\n",
       "      <th>Data (M1)</th>\n",
       "      <th>Model (Avg)</th>\n",
       "    </tr>\n",
       "  </thead>\n",
       "  <tbody>\n",
       "    <tr>\n",
       "      <th>0</th>\n",
       "      <td>Hours</td>\n",
       "      <td>0.333333</td>\n",
       "      <td>0.329899</td>\n",
       "    </tr>\n",
       "    <tr>\n",
       "      <th>1</th>\n",
       "      <td>Mean M1/GDP</td>\n",
       "      <td>0.147899</td>\n",
       "      <td>0.188160</td>\n",
       "    </tr>\n",
       "    <tr>\n",
       "      <th>2</th>\n",
       "      <td>Elasticity: (M1/GDP), i</td>\n",
       "      <td>-1.127899</td>\n",
       "      <td>-1.461983</td>\n",
       "    </tr>\n",
       "  </tbody>\n",
       "</table>\n",
       "</div>"
      ],
      "text/plain": [
       "            Aux. Statistic  Data (M1)  Model (Avg)\n",
       "0                    Hours   0.333333     0.329899\n",
       "1              Mean M1/GDP   0.147899     0.188160\n",
       "2  Elasticity: (M1/GDP), i  -1.127899    -1.461983"
      ]
     },
     "execution_count": 29,
     "metadata": {},
     "output_type": "execute_result"
    }
   ],
   "source": [
    "rowlabels = [\"Hours\", \"Mean M1/GDP\", \"Elasticity: (M1/GDP), i\"]\n",
    "matchabox_data = [ 1.0/3.0, df_comb2['NewM1/GDP'].mean(), Elasticity_L_i  ]\n",
    "matchabox_model = [ 0.329899, M1GDPbar, ETA  ]\n",
    "matcha_table = {    \"Aux. Statistic\": rowlabels,\n",
    "                    \"Data (M1)\": matchabox_data,\n",
    "                    \"Model (Avg)\": matchabox_model, \n",
    "               }\n",
    "# Create dataframe\n",
    "df_matcha = pd.DataFrame(data=matcha_table)\n",
    "df_matcha"
   ]
  },
  {
   "cell_type": "markdown",
   "metadata": {},
   "source": [
    "Models parameters were\n",
    "* ``chi=0.03`` (which implies ``CHI=0.029670``)\n",
    "* ``UbarDM=407.7725``\n",
    "* ``KAPPA=0.003997``\n",
    "\n",
    "Fixed and normalized parameters\n",
    "\n",
    "* ``A=1.0``\n",
    "\n",
    "* ``UbarCM=1.00`` \n",
    "\n",
    "Model solved with (quarterly) inflation/money growth rate \n",
    "\n",
    "* ``TAU=0.008894``\n"
   ]
  },
  {
   "cell_type": "code",
   "execution_count": null,
   "metadata": {},
   "outputs": [],
   "source": []
  }
 ],
 "metadata": {
  "anaconda-cloud": {},
  "kernelspec": {
   "display_name": "Python 3",
   "language": "python",
   "name": "python3"
  },
  "language_info": {
   "codemirror_mode": {
    "name": "ipython",
    "version": 3
   },
   "file_extension": ".py",
   "mimetype": "text/x-python",
   "name": "python",
   "nbconvert_exporter": "python",
   "pygments_lexer": "ipython3",
   "version": "3.6.6"
  }
 },
 "nbformat": 4,
 "nbformat_minor": 1
}
